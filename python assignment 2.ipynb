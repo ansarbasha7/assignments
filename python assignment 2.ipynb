{
 "cells": [
  {
   "cell_type": "markdown",
   "metadata": {},
   "source": [
    "## 2.Problem Statement \n",
    "## 1. Write a program which accepts a sequence of comma-separated numbers from console  and generate a list. \n"
   ]
  },
  {
   "cell_type": "code",
   "execution_count": 1,
   "metadata": {},
   "outputs": [
    {
     "name": "stdout",
     "output_type": "stream",
     "text": [
      "7,9,7,9,7,9,7\n"
     ]
    },
    {
     "data": {
      "text/plain": [
       "[7, 9, 7, 9, 7, 9, 7]"
      ]
     },
     "execution_count": 1,
     "metadata": {},
     "output_type": "execute_result"
    }
   ],
   "source": [
    "inp = input()\n",
    "result = []\n",
    "for i in inp:\n",
    "    if i.isdigit():\n",
    "        result.append(int(i))\n",
    "result\n",
    "#inp.split(',')"
   ]
  },
  {
   "cell_type": "markdown",
   "metadata": {},
   "source": [
    "## 1. Create the below pattern using nested for loop in Python. \n",
    "### * \n",
    "### * * \n",
    "### * * * \n",
    "### * * * * \n",
    "### * * * * * \n",
    "### * * * * \n",
    "### * * * \n",
    "### * * \n",
    "### * \n"
   ]
  },
  {
   "cell_type": "code",
   "execution_count": 2,
   "metadata": {},
   "outputs": [
    {
     "name": "stdout",
     "output_type": "stream",
     "text": [
      "* \n",
      "* * \n",
      "* * * \n",
      "* * * * \n",
      "* * * * * \n",
      "* * * * \n",
      "* * * \n",
      "* * \n",
      "* \n"
     ]
    }
   ],
   "source": [
    "k = 4\n",
    "for i in range(9):\n",
    "    if i<=4:\n",
    "        for j in range(i+1):\n",
    "            print('* ', end=\"\")\n",
    "    else:\n",
    "        for j in range(k):\n",
    "            print('* ', end=\"\")\n",
    "        k -= 1\n",
    "    print()"
   ]
  },
  {
   "cell_type": "markdown",
   "metadata": {},
   "source": [
    "### 2. Write a Python program to reverse a word after accepting the input from the user."
   ]
  },
  {
   "cell_type": "code",
   "execution_count": 3,
   "metadata": {},
   "outputs": [
    {
     "name": "stdout",
     "output_type": "stream",
     "text": [
      "ineuron\n",
      "The reversed string is: norueni\n"
     ]
    }
   ],
   "source": [
    "a = input()\n",
    "i = len(a)-1\n",
    "s = ''\n",
    "while i>=0:\n",
    "    s += a[i]\n",
    "    i -= 1\n",
    "print(\"The reversed string is:\", s)\n",
    "\n",
    "#print(''.join(list(reversed(a))))"
   ]
  }
 ],
 "metadata": {
  "kernelspec": {
   "display_name": "Python 3",
   "language": "python",
   "name": "python3"
  },
  "language_info": {
   "codemirror_mode": {
    "name": "ipython",
    "version": 3
   },
   "file_extension": ".py",
   "mimetype": "text/x-python",
   "name": "python",
   "nbconvert_exporter": "python",
   "pygments_lexer": "ipython3",
   "version": "3.7.4"
  }
 },
 "nbformat": 4,
 "nbformat_minor": 2
}
